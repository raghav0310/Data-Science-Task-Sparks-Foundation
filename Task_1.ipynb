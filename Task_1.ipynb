{
  "nbformat": 4,
  "nbformat_minor": 0,
  "metadata": {
    "colab": {
      "name": "Task 1.ipynb",
      "provenance": []
    },
    "kernelspec": {
      "name": "python3",
      "display_name": "Python 3"
    }
  },
  "cells": [
    {
      "cell_type": "code",
      "metadata": {
        "id": "KFh3cqNa3m9f"
      },
      "source": [
        "# Importing all libraries required in this notebook\r\n",
        "import pandas as pd\r\n",
        "import numpy as np  \r\n",
        "import matplotlib.pyplot as plt  \r\n",
        "%matplotlib inline"
      ],
      "execution_count": 2,
      "outputs": []
    },
    {
      "cell_type": "code",
      "metadata": {
        "colab": {
          "base_uri": "https://localhost:8080/",
          "height": 376
        },
        "id": "Z5mWrJ8n4LEl",
        "outputId": "21cad51c-c5d7-4a27-c09f-b5503d33e893"
      },
      "source": [
        "# Reading data from remote link\r\n",
        "url = \"http://bit.ly/w-data\"\r\n",
        "dataset = pd.read_csv(url)\r\n",
        "print(\"Data imported successfully\")\r\n",
        "\r\n",
        "dataset.head(10)"
      ],
      "execution_count": 3,
      "outputs": [
        {
          "output_type": "stream",
          "text": [
            "Data imported successfully\n"
          ],
          "name": "stdout"
        },
        {
          "output_type": "execute_result",
          "data": {
            "text/html": [
              "<div>\n",
              "<style scoped>\n",
              "    .dataframe tbody tr th:only-of-type {\n",
              "        vertical-align: middle;\n",
              "    }\n",
              "\n",
              "    .dataframe tbody tr th {\n",
              "        vertical-align: top;\n",
              "    }\n",
              "\n",
              "    .dataframe thead th {\n",
              "        text-align: right;\n",
              "    }\n",
              "</style>\n",
              "<table border=\"1\" class=\"dataframe\">\n",
              "  <thead>\n",
              "    <tr style=\"text-align: right;\">\n",
              "      <th></th>\n",
              "      <th>Hours</th>\n",
              "      <th>Scores</th>\n",
              "    </tr>\n",
              "  </thead>\n",
              "  <tbody>\n",
              "    <tr>\n",
              "      <th>0</th>\n",
              "      <td>2.5</td>\n",
              "      <td>21</td>\n",
              "    </tr>\n",
              "    <tr>\n",
              "      <th>1</th>\n",
              "      <td>5.1</td>\n",
              "      <td>47</td>\n",
              "    </tr>\n",
              "    <tr>\n",
              "      <th>2</th>\n",
              "      <td>3.2</td>\n",
              "      <td>27</td>\n",
              "    </tr>\n",
              "    <tr>\n",
              "      <th>3</th>\n",
              "      <td>8.5</td>\n",
              "      <td>75</td>\n",
              "    </tr>\n",
              "    <tr>\n",
              "      <th>4</th>\n",
              "      <td>3.5</td>\n",
              "      <td>30</td>\n",
              "    </tr>\n",
              "    <tr>\n",
              "      <th>5</th>\n",
              "      <td>1.5</td>\n",
              "      <td>20</td>\n",
              "    </tr>\n",
              "    <tr>\n",
              "      <th>6</th>\n",
              "      <td>9.2</td>\n",
              "      <td>88</td>\n",
              "    </tr>\n",
              "    <tr>\n",
              "      <th>7</th>\n",
              "      <td>5.5</td>\n",
              "      <td>60</td>\n",
              "    </tr>\n",
              "    <tr>\n",
              "      <th>8</th>\n",
              "      <td>8.3</td>\n",
              "      <td>81</td>\n",
              "    </tr>\n",
              "    <tr>\n",
              "      <th>9</th>\n",
              "      <td>2.7</td>\n",
              "      <td>25</td>\n",
              "    </tr>\n",
              "  </tbody>\n",
              "</table>\n",
              "</div>"
            ],
            "text/plain": [
              "   Hours  Scores\n",
              "0    2.5      21\n",
              "1    5.1      47\n",
              "2    3.2      27\n",
              "3    8.5      75\n",
              "4    3.5      30\n",
              "5    1.5      20\n",
              "6    9.2      88\n",
              "7    5.5      60\n",
              "8    8.3      81\n",
              "9    2.7      25"
            ]
          },
          "metadata": {
            "tags": []
          },
          "execution_count": 3
        }
      ]
    },
    {
      "cell_type": "code",
      "metadata": {
        "colab": {
          "base_uri": "https://localhost:8080/",
          "height": 295
        },
        "id": "QFhDqY0T4Qnh",
        "outputId": "ba5baf8d-1e57-4094-ef48-30bf8c919722"
      },
      "source": [
        "# Plotting the distribution of scores\r\n",
        "dataset.plot(x='Hours', y='Scores', style='o')  \r\n",
        "plt.title('Hours vs Percentage')  \r\n",
        "plt.xlabel('Hours Studied')  \r\n",
        "plt.ylabel('Percentage Score')  \r\n",
        "plt.show()"
      ],
      "execution_count": 4,
      "outputs": [
        {
          "output_type": "display_data",
          "data": {
            "image/png": "[encoded data removed]",
            "text/plain": [
              "<Figure size 432x288 with 1 Axes>"
            ]
          },
          "metadata": {
            "tags": [],
            "needs_background": "light"
          }
        }
      ]
    },
    {
      "cell_type": "code",
      "metadata": {
        "id": "KdPo7nq44Szf"
      },
      "source": [
        "X = dataset.iloc[:, :-1].values  \r\n",
        "y = dataset.iloc[:, 1].values"
      ],
      "execution_count": 5,
      "outputs": []
    },
    {
      "cell_type": "code",
      "metadata": {
        "id": "zusLRGuf4V8m"
      },
      "source": [
        "from sklearn.model_selection import train_test_split  \r\n",
        "X_train, X_test, y_train, y_test = train_test_split(X, y, test_size=0.2, random_state=0)"
      ],
      "execution_count": 6,
      "outputs": []
    },
    {
      "cell_type": "code",
      "metadata": {
        "colab": {
          "base_uri": "https://localhost:8080/"
        },
        "id": "LC2kORD04YgU",
        "outputId": "97ed5702-4578-43ef-c429-608352cb10a9"
      },
      "source": [
        "from sklearn.linear_model import LinearRegression  \r\n",
        "model = LinearRegression()  \r\n",
        "model.fit(X_train, y_train) \r\n",
        "\r\n",
        "print(\"Training complete.\")"
      ],
      "execution_count": 7,
      "outputs": [
        {
          "output_type": "stream",
          "text": [
            "Training complete.\n"
          ],
          "name": "stdout"
        }
      ]
    },
    {
      "cell_type": "code",
      "metadata": {
        "id": "-WzusHSW4dNC"
      },
      "source": [
        "y_pred = model.predict(X_test)"
      ],
      "execution_count": 8,
      "outputs": []
    },
    {
      "cell_type": "code",
      "metadata": {
        "id": "0cMKr9rE6kDE"
      },
      "source": [
        "# Importing all libraries required in this notebook\r\n",
        "from pandas import *\r\n",
        "import numpy as np  \r\n",
        "from matplotlib.pyplot import * \r\n",
        "%matplotlib inline"
      ],
      "execution_count": 10,
      "outputs": []
    },
    {
      "cell_type": "code",
      "metadata": {
        "colab": {
          "base_uri": "https://localhost:8080/",
          "height": 312
        },
        "id": "gGu_N-Pa4mS7",
        "outputId": "4a16ebc9-db75-46ec-f9ae-b1bda07b365c"
      },
      "source": [
        "scatter(X_train,y_train,color = 'green')\r\n",
        "plot(X_train,model.predict(X_train),color = 'red')\r\n",
        "title('Studyhours vs Score')\r\n",
        "xlabel('Study Hours')\r\n",
        "ylabel('Score Obtained')"
      ],
      "execution_count": 11,
      "outputs": [
        {
          "output_type": "execute_result",
          "data": {
            "text/plain": [
              "Text(0, 0.5, 'Score Obtained')"
            ]
          },
          "metadata": {
            "tags": []
          },
          "execution_count": 11
        },
        {
          "output_type": "display_data",
          "data": {
            "image/png": "[encoded data removed]",
            "text/plain": [
              "<Figure size 432x288 with 1 Axes>"
            ]
          },
          "metadata": {
            "tags": [],
            "needs_background": "light"
          }
        }
      ]
    },
    {
      "cell_type": "code",
      "metadata": {
        "colab": {
          "base_uri": "https://localhost:8080/",
          "height": 312
        },
        "id": "0bF1mMNa4oo0",
        "outputId": "8a703037-2177-47d9-9cec-f7a16e193ac9"
      },
      "source": [
        "scatter(X_test,y_test,color = 'green')\r\n",
        "plot(X_train,model.predict(X_train),color = 'red')\r\n",
        "title('Studyhours vs Score')\r\n",
        "xlabel('Study Hours')\r\n",
        "ylabel('Score Obtained')"
      ],
      "execution_count": 12,
      "outputs": [
        {
          "output_type": "execute_result",
          "data": {
            "text/plain": [
              "Text(0, 0.5, 'Score Obtained')"
            ]
          },
          "metadata": {
            "tags": []
          },
          "execution_count": 12
        },
        {
          "output_type": "display_data",
          "data": {
            "image/png": "[encoded data removed]",
            "text/plain": [
              "<Figure size 432x288 with 1 Axes>"
            ]
          },
          "metadata": {
            "tags": [],
            "needs_background": "light"
          }
        }
      ]
    },
    {
      "cell_type": "code",
      "metadata": {
        "id": "rbNaafG77sXC"
      },
      "source": [
        "from sklearn import metrics"
      ],
      "execution_count": 13,
      "outputs": []
    },
    {
      "cell_type": "code",
      "metadata": {
        "colab": {
          "base_uri": "https://localhost:8080/"
        },
        "id": "VS8VyAGF9CFj",
        "outputId": "462fb0b5-9250-49f0-9ff7-b0b40ad82712"
      },
      "source": [
        "metrics.mean_absolute_error(y_test,y_pred)"
      ],
      "execution_count": 14,
      "outputs": [
        {
          "output_type": "execute_result",
          "data": {
            "text/plain": [
              "4.183859899002982"
            ]
          },
          "metadata": {
            "tags": []
          },
          "execution_count": 14
        }
      ]
    },
    {
      "cell_type": "markdown",
      "metadata": {
        "id": "AZWZpqvt-qz3"
      },
      "source": [
        "What will be predicted score if a student studies for 9.25 hrs/ day?"
      ]
    },
    {
      "cell_type": "code",
      "metadata": {
        "id": "SWXlED4K-sCJ"
      },
      "source": [
        "prediction = np.array([9.25])"
      ],
      "execution_count": 15,
      "outputs": []
    },
    {
      "cell_type": "code",
      "metadata": {
        "id": "NQFrs6VK-uxd"
      },
      "source": [
        "Pred = prediction.reshape(1,1)"
      ],
      "execution_count": 16,
      "outputs": []
    },
    {
      "cell_type": "code",
      "metadata": {
        "id": "XrLsQw5R-xmv"
      },
      "source": [
        "y_pred = model.predict(Pred)"
      ],
      "execution_count": 17,
      "outputs": []
    },
    {
      "cell_type": "code",
      "metadata": {
        "colab": {
          "base_uri": "https://localhost:8080/"
        },
        "id": "43KAD3Qg-0US",
        "outputId": "f7db575e-e2b9-4fb9-97df-ef83015a004f"
      },
      "source": [
        "y_pred"
      ],
      "execution_count": 18,
      "outputs": [
        {
          "output_type": "execute_result",
          "data": {
            "text/plain": [
              "array([93.69173249])"
            ]
          },
          "metadata": {
            "tags": []
          },
          "execution_count": 18
        }
      ]
    },
    {
      "cell_type": "code",
      "metadata": {
        "id": "dwut0k_m-3Bp"
      },
      "source": [
        ""
      ],
      "execution_count": null,
      "outputs": []
    }
  ]
}